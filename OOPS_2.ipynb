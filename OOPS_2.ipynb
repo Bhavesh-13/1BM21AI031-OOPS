{
  "nbformat": 4,
  "nbformat_minor": 0,
  "metadata": {
    "colab": {
      "provenance": []
    },
    "kernelspec": {
      "name": "python3",
      "display_name": "Python 3"
    },
    "language_info": {
      "name": "python"
    }
  },
  "cells": [
    {
      "cell_type": "code",
      "execution_count": null,
      "metadata": {
        "colab": {
          "base_uri": "https://localhost:8080/"
        },
        "id": "vdUPOaPEFHVq",
        "outputId": "b3cde9fc-66cf-4ad3-9e01-3abf48a600f1"
      },
      "outputs": [
        {
          "output_type": "stream",
          "name": "stdout",
          "text": [
            "a\n",
            "b\n",
            "c\n",
            "d\n"
          ]
        }
      ],
      "source": [
        "class Songs:\n",
        "    def __init__(self,lyrics):\n",
        "        self.lyrics = lyrics\n",
        "    def sing_me_a_song(self):\n",
        "        for lyric in self.lyrics:\n",
        "            print(lyric)\n",
        "lyrics = ['a',\"b\",'c','d']\n",
        "obj = Songs(lyrics)\n",
        "obj.sing_me_a_song()"
      ]
    },
    {
      "cell_type": "code",
      "source": [
        "class birthdayboy:\n",
        "    def __init__(self,name,age):\n",
        "        self.name=name\n",
        "        self.age=age\n",
        "    def birthday(self):\n",
        "        self.age+=1\n",
        "        return self.age\n",
        "boy1=birthdayboy(\"ABC\",35)\n",
        "age=boy1.birthday()\n",
        "print(f\"ABC's age after his birthday is {age}\")"
      ],
      "metadata": {
        "colab": {
          "base_uri": "https://localhost:8080/"
        },
        "id": "9U4Q4PFqFSjx",
        "outputId": "f2521eb2-f944-4a1f-81e6-8b7739d2ee00"
      },
      "execution_count": null,
      "outputs": [
        {
          "output_type": "stream",
          "name": "stdout",
          "text": [
            "ABC's age after his birthday is 36\n"
          ]
        }
      ]
    },
    {
      "cell_type": "code",
      "source": [
        "class rectangle:\n",
        "    def __init__(self,length,breadth):\n",
        "        self.length=length\n",
        "        self.breadth=breadth\n",
        "\n",
        "    def area(self):\n",
        "        self.area=self.length*self.breadth\n",
        "        return self.area\n",
        "\n",
        "r1 = rectangle(12,34)\n",
        "area=r1.area()\n",
        "print(f\"area of the reactngle 1 is {area}\")"
      ],
      "metadata": {
        "colab": {
          "base_uri": "https://localhost:8080/"
        },
        "id": "gHHgyR92FbOB",
        "outputId": "160224a3-7aae-4ce1-b53a-6e95844e608b"
      },
      "execution_count": null,
      "outputs": [
        {
          "output_type": "stream",
          "name": "stdout",
          "text": [
            "area of the reactngle 1 is 408\n"
          ]
        }
      ]
    },
    {
      "cell_type": "code",
      "source": [
        "import datetime\n",
        "class Dog:\n",
        "    name = 'tom'\n",
        "    breed = 'pug'\n",
        "    dob = datetime.datetime(2024,1,1,12,30,0)\n",
        "    def bark(self):\n",
        "        print(\"wooooofff!!!?\")\n",
        "        print(self.dob)\n",
        "    def get_name(self):\n",
        "        print(\"dog's name is:\",self.name)\n",
        "    def set_name(self):\n",
        "        new_name = input(\"Enter the new name of the dog: \")\n",
        "        self.name = new_name\n",
        "obj = Dog()\n",
        "obj.set_name()\n",
        "obj.get_name()\n",
        "obj.bark()\n"
      ],
      "metadata": {
        "colab": {
          "base_uri": "https://localhost:8080/"
        },
        "id": "RlTvOc4VFcOh",
        "outputId": "998b1a6b-ed49-4cd7-b66c-7ce576e20923"
      },
      "execution_count": null,
      "outputs": [
        {
          "output_type": "stream",
          "name": "stdout",
          "text": [
            "Enter the new name of the dog: bow bow\n",
            "dog's name is: bow bow\n",
            "wooooofff!!!?\n",
            "2024-01-01 12:30:00\n"
          ]
        }
      ]
    },
    {
      "cell_type": "code",
      "source": [
        "class Car:\n",
        "    def __init__(self,brand,model,year):\n",
        "        self.brand = brand\n",
        "        self.model = model\n",
        "        self.year = year\n",
        "    def PrintDetails(self):\n",
        "        print(self.brand )\n",
        "        print(self.model )\n",
        "        print(self.year )\n",
        "obj = Car('h','t',2023)\n",
        "obj.PrintDetails()"
      ],
      "metadata": {
        "colab": {
          "base_uri": "https://localhost:8080/"
        },
        "id": "9_CzmuU0GAuU",
        "outputId": "85a65cd9-538c-4e5a-f4bf-7ffc14507237"
      },
      "execution_count": null,
      "outputs": [
        {
          "output_type": "stream",
          "name": "stdout",
          "text": [
            "h\n",
            "t\n",
            "2023\n"
          ]
        }
      ]
    },
    {
      "cell_type": "code",
      "source": [
        "class Student:\n",
        "    def __init__(self,name =\"name\",age=20,grade=\"f\") -> None:\n",
        "        self.name = name\n",
        "        self.age = age\n",
        "        self.grade = grade\n",
        "    def printobj(self):\n",
        "        return self.name , self.age ,self.grade\n",
        "obj = Student()\n",
        "x , y , z = obj.printobj()\n",
        "print(x,y,z)"
      ],
      "metadata": {
        "colab": {
          "base_uri": "https://localhost:8080/"
        },
        "id": "m8tVoLRyGWcT",
        "outputId": "dc1790f5-520a-47e9-d4ce-af961176e1c2"
      },
      "execution_count": null,
      "outputs": [
        {
          "output_type": "stream",
          "name": "stdout",
          "text": [
            "name 20 f\n"
          ]
        }
      ]
    }
  ]
}